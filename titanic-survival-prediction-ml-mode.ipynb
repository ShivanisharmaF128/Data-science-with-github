{
 "cells": [
  {
   "cell_type": "code",
   "execution_count": 1,
   "id": "c5f35fcd",
   "metadata": {
    "_cell_guid": "b1076dfc-b9ad-4769-8c92-a6c4dae69d19",
    "_uuid": "8f2839f25d086af736a60e9eeb907d3b93b6e0e5",
    "execution": {
     "iopub.execute_input": "2024-11-17T06:37:49.553474Z",
     "iopub.status.busy": "2024-11-17T06:37:49.553047Z",
     "iopub.status.idle": "2024-11-17T06:37:50.552877Z",
     "shell.execute_reply": "2024-11-17T06:37:50.551289Z"
    },
    "papermill": {
     "duration": 1.020734,
     "end_time": "2024-11-17T06:37:50.555733",
     "exception": false,
     "start_time": "2024-11-17T06:37:49.534999",
     "status": "completed"
    },
    "tags": []
   },
   "outputs": [
    {
     "name": "stdout",
     "output_type": "stream",
     "text": [
      "/kaggle/input/titanic/train.csv\n",
      "/kaggle/input/titanic/test.csv\n",
      "/kaggle/input/titanic/gender_submission.csv\n"
     ]
    }
   ],
   "source": [
    "# This Python 3 environment comes with many helpful analytics libraries installed\n",
    "# It is defined by the kaggle/python Docker image: https://github.com/kaggle/docker-python\n",
    "# For example, here's several helpful packages to load\n",
    "\n",
    "import numpy as np # linear algebra\n",
    "import pandas as pd # data processing, CSV file I/O (e.g. pd.read_csv)\n",
    "\n",
    "# Input data files are available in the read-only \"../input/\" directory\n",
    "# For example, running this (by clicking run or pressing Shift+Enter) will list all files under the input directory\n",
    "\n",
    "import os\n",
    "for dirname, _, filenames in os.walk('/kaggle/input'):\n",
    "    for filename in filenames:\n",
    "        print(os.path.join(dirname, filename))\n",
    "\n",
    "# You can write up to 20GB to the current directory (/kaggle/working/) that gets preserved as output when you create a version using \"Save & Run All\" \n",
    "# You can also write temporary files to /kaggle/temp/, but they won't be saved outside of the current session"
   ]
  },
  {
   "cell_type": "markdown",
   "id": "363dbe39",
   "metadata": {
    "papermill": {
     "duration": 0.015666,
     "end_time": "2024-11-17T06:37:50.586614",
     "exception": false,
     "start_time": "2024-11-17T06:37:50.570948",
     "status": "completed"
    },
    "tags": []
   },
   "source": [
    "# Predicting Titanic Survival: Insights and Modeling with Data Science"
   ]
  },
  {
   "cell_type": "markdown",
   "id": "04869bf1",
   "metadata": {
    "papermill": {
     "duration": 0.014453,
     "end_time": "2024-11-17T06:37:50.615979",
     "exception": false,
     "start_time": "2024-11-17T06:37:50.601526",
     "status": "completed"
    },
    "tags": []
   },
   "source": [
    "**The Challenge**\r\n",
    "The sinking of the Titanic is one of the most infamous shipwrecks in history.\r\n",
    "\r\n",
    "On April 15, 1912, during her maiden voyage, the widely considered “unsinkable” RMS Titanic sank after colliding with an iceberg. Unfortunately, there weren’t enough lifeboats for everyone onboard, resulting in the death of 1502 out of 2224 passengers and crew.\r\n",
    "\r\n",
    "While there was some element of luck involved in surviving, it seems some groups of people were more likely to survive than others.\r\n",
    "\r\n",
    "In this challenge, we ask you to build a predictive model that answers the question: “what sorts of people were more likely to survive?” using passenger data (ie name, age, gender, socio-economic class, etc)."
   ]
  },
  {
   "cell_type": "markdown",
   "id": "6769651c",
   "metadata": {
    "papermill": {
     "duration": 0.014573,
     "end_time": "2024-11-17T06:37:50.645536",
     "exception": false,
     "start_time": "2024-11-17T06:37:50.630963",
     "status": "completed"
    },
    "tags": []
   },
   "source": [
    "# Importing Libraries"
   ]
  },
  {
   "cell_type": "code",
   "execution_count": 2,
   "id": "d78a96f9",
   "metadata": {
    "execution": {
     "iopub.execute_input": "2024-11-17T06:37:50.677652Z",
     "iopub.status.busy": "2024-11-17T06:37:50.676655Z",
     "iopub.status.idle": "2024-11-17T06:37:54.328261Z",
     "shell.execute_reply": "2024-11-17T06:37:54.327234Z"
    },
    "papermill": {
     "duration": 3.670708,
     "end_time": "2024-11-17T06:37:54.330964",
     "exception": false,
     "start_time": "2024-11-17T06:37:50.660256",
     "status": "completed"
    },
    "tags": []
   },
   "outputs": [],
   "source": [
    "import pandas as pd\n",
    "import numpy as np\n",
    "import matplotlib.pyplot as plt\n",
    "import seaborn as sns\n",
    "import plotly.express as px\n",
    "from sklearn.model_selection import train_test_split\n",
    "from sklearn.preprocessing import LabelEncoder, OneHotEncoder\n",
    "from sklearn.ensemble import RandomForestClassifier\n",
    "from sklearn.metrics import accuracy_score, classification_report\n",
    "from sklearn.model_selection import cross_val_score\n",
    "from imblearn.over_sampling import SMOTE\n",
    "from sklearn.model_selection import GridSearchCV\n",
    "from xgboost import XGBClassifier\n",
    "from sklearn.metrics import classification_report, confusion_matrix"
   ]
  },
  {
   "cell_type": "markdown",
   "id": "1212b78a",
   "metadata": {
    "papermill": {
     "duration": 0.014756,
     "end_time": "2024-11-17T06:37:54.360858",
     "exception": false,
     "start_time": "2024-11-17T06:37:54.346102",
     "status": "completed"
    },
    "tags": []
   },
   "source": [
    "# Ignore all warning"
   ]
  },
  {
   "cell_type": "code",
   "execution_count": 3,
   "id": "180f04df",
   "metadata": {
    "execution": {
     "iopub.execute_input": "2024-11-17T06:37:54.393175Z",
     "iopub.status.busy": "2024-11-17T06:37:54.392423Z",
     "iopub.status.idle": "2024-11-17T06:37:54.398028Z",
     "shell.execute_reply": "2024-11-17T06:37:54.396756Z"
    },
    "papermill": {
     "duration": 0.024799,
     "end_time": "2024-11-17T06:37:54.400624",
     "exception": false,
     "start_time": "2024-11-17T06:37:54.375825",
     "status": "completed"
    },
    "tags": []
   },
   "outputs": [],
   "source": [
    "import warnings\n",
    "warnings.filterwarnings('ignore')"
   ]
  },
  {
   "cell_type": "markdown",
   "id": "57a69ec0",
   "metadata": {
    "papermill": {
     "duration": 0.014767,
     "end_time": "2024-11-17T06:37:54.430545",
     "exception": false,
     "start_time": "2024-11-17T06:37:54.415778",
     "status": "completed"
    },
    "tags": []
   },
   "source": [
    "# Loading Data"
   ]
  },
  {
   "cell_type": "code",
   "execution_count": 4,
   "id": "a4e4b36b",
   "metadata": {
    "execution": {
     "iopub.execute_input": "2024-11-17T06:37:54.462219Z",
     "iopub.status.busy": "2024-11-17T06:37:54.461792Z",
     "iopub.status.idle": "2024-11-17T06:37:54.502480Z",
     "shell.execute_reply": "2024-11-17T06:37:54.501280Z"
    },
    "papermill": {
     "duration": 0.060052,
     "end_time": "2024-11-17T06:37:54.505476",
     "exception": false,
     "start_time": "2024-11-17T06:37:54.445424",
     "status": "completed"
    },
    "tags": []
   },
   "outputs": [],
   "source": [
    "gen=pd.read_csv('/kaggle/input/titanic/gender_submission.csv')\n",
    "tst=pd.read_csv('/kaggle/input/titanic/test.csv')\n",
    "trn=pd.read_csv('/kaggle/input/titanic/train.csv')"
   ]
  },
  {
   "cell_type": "code",
   "execution_count": 5,
   "id": "98122ba3",
   "metadata": {
    "execution": {
     "iopub.execute_input": "2024-11-17T06:37:54.538316Z",
     "iopub.status.busy": "2024-11-17T06:37:54.537882Z",
     "iopub.status.idle": "2024-11-17T06:37:54.576233Z",
     "shell.execute_reply": "2024-11-17T06:37:54.575226Z"
    },
    "papermill": {
     "duration": 0.05803,
     "end_time": "2024-11-17T06:37:54.579116",
     "exception": false,
     "start_time": "2024-11-17T06:37:54.521086",
     "status": "completed"
    },
    "tags": []
   },
   "outputs": [],
   "source": [
    "# Merge the DataFrames\n",
    "df = pd.concat([trn, tst, gen], ignore_index=True)\n",
    "\n",
    "# Optionally, save the merged DataFrame to a new CSV file\n",
    "\n",
    "df.to_csv('merged_data.csv', index=False)"
   ]
  },
  {
   "cell_type": "code",
   "execution_count": 6,
   "id": "ede7f2f1",
   "metadata": {
    "execution": {
     "iopub.execute_input": "2024-11-17T06:37:54.612811Z",
     "iopub.status.busy": "2024-11-17T06:37:54.611671Z",
     "iopub.status.idle": "2024-11-17T06:37:54.639396Z",
     "shell.execute_reply": "2024-11-17T06:37:54.638268Z"
    },
    "papermill": {
     "duration": 0.046941,
     "end_time": "2024-11-17T06:37:54.642197",
     "exception": false,
     "start_time": "2024-11-17T06:37:54.595256",
     "status": "completed"
    },
    "tags": []
   },
   "outputs": [
    {
     "data": {
      "text/html": [
       "<div>\n",
       "<style scoped>\n",
       "    .dataframe tbody tr th:only-of-type {\n",
       "        vertical-align: middle;\n",
       "    }\n",
       "\n",
       "    .dataframe tbody tr th {\n",
       "        vertical-align: top;\n",
       "    }\n",
       "\n",
       "    .dataframe thead th {\n",
       "        text-align: right;\n",
       "    }\n",
       "</style>\n",
       "<table border=\"1\" class=\"dataframe\">\n",
       "  <thead>\n",
       "    <tr style=\"text-align: right;\">\n",
       "      <th></th>\n",
       "      <th>PassengerId</th>\n",
       "      <th>Survived</th>\n",
       "      <th>Pclass</th>\n",
       "      <th>Name</th>\n",
       "      <th>Sex</th>\n",
       "      <th>Age</th>\n",
       "      <th>SibSp</th>\n",
       "      <th>Parch</th>\n",
       "      <th>Ticket</th>\n",
       "      <th>Fare</th>\n",
       "      <th>Cabin</th>\n",
       "      <th>Embarked</th>\n",
       "    </tr>\n",
       "  </thead>\n",
       "  <tbody>\n",
       "    <tr>\n",
       "      <th>0</th>\n",
       "      <td>1</td>\n",
       "      <td>0.0</td>\n",
       "      <td>3.0</td>\n",
       "      <td>Braund, Mr. Owen Harris</td>\n",
       "      <td>male</td>\n",
       "      <td>22.0</td>\n",
       "      <td>1.0</td>\n",
       "      <td>0.0</td>\n",
       "      <td>A/5 21171</td>\n",
       "      <td>7.2500</td>\n",
       "      <td>NaN</td>\n",
       "      <td>S</td>\n",
       "    </tr>\n",
       "    <tr>\n",
       "      <th>1</th>\n",
       "      <td>2</td>\n",
       "      <td>1.0</td>\n",
       "      <td>1.0</td>\n",
       "      <td>Cumings, Mrs. John Bradley (Florence Briggs Th...</td>\n",
       "      <td>female</td>\n",
       "      <td>38.0</td>\n",
       "      <td>1.0</td>\n",
       "      <td>0.0</td>\n",
       "      <td>PC 17599</td>\n",
       "      <td>71.2833</td>\n",
       "      <td>C85</td>\n",
       "      <td>C</td>\n",
       "    </tr>\n",
       "    <tr>\n",
       "      <th>2</th>\n",
       "      <td>3</td>\n",
       "      <td>1.0</td>\n",
       "      <td>3.0</td>\n",
       "      <td>Heikkinen, Miss. Laina</td>\n",
       "      <td>female</td>\n",
       "      <td>26.0</td>\n",
       "      <td>0.0</td>\n",
       "      <td>0.0</td>\n",
       "      <td>STON/O2. 3101282</td>\n",
       "      <td>7.9250</td>\n",
       "      <td>NaN</td>\n",
       "      <td>S</td>\n",
       "    </tr>\n",
       "    <tr>\n",
       "      <th>3</th>\n",
       "      <td>4</td>\n",
       "      <td>1.0</td>\n",
       "      <td>1.0</td>\n",
       "      <td>Futrelle, Mrs. Jacques Heath (Lily May Peel)</td>\n",
       "      <td>female</td>\n",
       "      <td>35.0</td>\n",
       "      <td>1.0</td>\n",
       "      <td>0.0</td>\n",
       "      <td>113803</td>\n",
       "      <td>53.1000</td>\n",
       "      <td>C123</td>\n",
       "      <td>S</td>\n",
       "    </tr>\n",
       "    <tr>\n",
       "      <th>4</th>\n",
       "      <td>5</td>\n",
       "      <td>0.0</td>\n",
       "      <td>3.0</td>\n",
       "      <td>Allen, Mr. William Henry</td>\n",
       "      <td>male</td>\n",
       "      <td>35.0</td>\n",
       "      <td>0.0</td>\n",
       "      <td>0.0</td>\n",
       "      <td>373450</td>\n",
       "      <td>8.0500</td>\n",
       "      <td>NaN</td>\n",
       "      <td>S</td>\n",
       "    </tr>\n",
       "  </tbody>\n",
       "</table>\n",
       "</div>"
      ],
      "text/plain": [
       "   PassengerId  Survived  Pclass  \\\n",
       "0            1       0.0     3.0   \n",
       "1            2       1.0     1.0   \n",
       "2            3       1.0     3.0   \n",
       "3            4       1.0     1.0   \n",
       "4            5       0.0     3.0   \n",
       "\n",
       "                                                Name     Sex   Age  SibSp  \\\n",
       "0                            Braund, Mr. Owen Harris    male  22.0    1.0   \n",
       "1  Cumings, Mrs. John Bradley (Florence Briggs Th...  female  38.0    1.0   \n",
       "2                             Heikkinen, Miss. Laina  female  26.0    0.0   \n",
       "3       Futrelle, Mrs. Jacques Heath (Lily May Peel)  female  35.0    1.0   \n",
       "4                           Allen, Mr. William Henry    male  35.0    0.0   \n",
       "\n",
       "   Parch            Ticket     Fare Cabin Embarked  \n",
       "0    0.0         A/5 21171   7.2500   NaN        S  \n",
       "1    0.0          PC 17599  71.2833   C85        C  \n",
       "2    0.0  STON/O2. 3101282   7.9250   NaN        S  \n",
       "3    0.0            113803  53.1000  C123        S  \n",
       "4    0.0            373450   8.0500   NaN        S  "
      ]
     },
     "execution_count": 6,
     "metadata": {},
     "output_type": "execute_result"
    }
   ],
   "source": [
    "df.head()"
   ]
  },
  {
   "cell_type": "markdown",
   "id": "17ec0ea5",
   "metadata": {
    "papermill": {
     "duration": 0.015012,
     "end_time": "2024-11-17T06:37:54.672657",
     "exception": false,
     "start_time": "2024-11-17T06:37:54.657645",
     "status": "completed"
    },
    "tags": []
   },
   "source": [
    "**set option of rows and colum to maximum**"
   ]
  },
  {
   "cell_type": "code",
   "execution_count": 7,
   "id": "e170546d",
   "metadata": {
    "execution": {
     "iopub.execute_input": "2024-11-17T06:37:54.705233Z",
     "iopub.status.busy": "2024-11-17T06:37:54.704786Z",
     "iopub.status.idle": "2024-11-17T06:37:54.710759Z",
     "shell.execute_reply": "2024-11-17T06:37:54.709575Z"
    },
    "papermill": {
     "duration": 0.025156,
     "end_time": "2024-11-17T06:37:54.713269",
     "exception": false,
     "start_time": "2024-11-17T06:37:54.688113",
     "status": "completed"
    },
    "tags": []
   },
   "outputs": [],
   "source": [
    "# maximum column printing option \n",
    "\n",
    "pd.set_option('display.max_columns' , None)\n",
    "\n",
    "# maximum row printing option\n",
    "\n",
    "pd.set_option('display.max_rows' , None)"
   ]
  },
  {
   "cell_type": "markdown",
   "id": "0e65f018",
   "metadata": {
    "papermill": {
     "duration": 0.015212,
     "end_time": "2024-11-17T06:37:54.744233",
     "exception": false,
     "start_time": "2024-11-17T06:37:54.729021",
     "status": "completed"
    },
    "tags": []
   },
   "source": [
    "# Checking missing values"
   ]
  },
  {
   "cell_type": "code",
   "execution_count": 8,
   "id": "2d6efffd",
   "metadata": {
    "execution": {
     "iopub.execute_input": "2024-11-17T06:37:54.777396Z",
     "iopub.status.busy": "2024-11-17T06:37:54.776956Z",
     "iopub.status.idle": "2024-11-17T06:37:54.788990Z",
     "shell.execute_reply": "2024-11-17T06:37:54.787919Z"
    },
    "papermill": {
     "duration": 0.031801,
     "end_time": "2024-11-17T06:37:54.791548",
     "exception": false,
     "start_time": "2024-11-17T06:37:54.759747",
     "status": "completed"
    },
    "tags": []
   },
   "outputs": [
    {
     "data": {
      "text/plain": [
       "PassengerId       0\n",
       "Survived        418\n",
       "Pclass          418\n",
       "Name            418\n",
       "Sex             418\n",
       "Age             681\n",
       "SibSp           418\n",
       "Parch           418\n",
       "Ticket          418\n",
       "Fare            419\n",
       "Cabin          1432\n",
       "Embarked        420\n",
       "dtype: int64"
      ]
     },
     "execution_count": 8,
     "metadata": {},
     "output_type": "execute_result"
    }
   ],
   "source": [
    "df.isnull().sum()"
   ]
  },
  {
   "cell_type": "code",
   "execution_count": 9,
   "id": "61ea4e49",
   "metadata": {
    "execution": {
     "iopub.execute_input": "2024-11-17T06:37:54.824932Z",
     "iopub.status.busy": "2024-11-17T06:37:54.824235Z",
     "iopub.status.idle": "2024-11-17T06:37:54.835019Z",
     "shell.execute_reply": "2024-11-17T06:37:54.833603Z"
    },
    "papermill": {
     "duration": 0.030442,
     "end_time": "2024-11-17T06:37:54.837581",
     "exception": false,
     "start_time": "2024-11-17T06:37:54.807139",
     "status": "completed"
    },
    "tags": []
   },
   "outputs": [
    {
     "name": "stdout",
     "output_type": "stream",
     "text": [
      "PassengerId     0.000000\n",
      "Survived       24.203822\n",
      "Pclass         24.203822\n",
      "Name           24.203822\n",
      "Sex            24.203822\n",
      "Age            39.432542\n",
      "SibSp          24.203822\n",
      "Parch          24.203822\n",
      "Ticket         24.203822\n",
      "Fare           24.261726\n",
      "Cabin          82.918356\n",
      "Embarked       24.319629\n",
      "dtype: float64\n"
     ]
    }
   ],
   "source": [
    "# Calculate percentage of missing values for each column\n",
    "missing_percentage = df.isnull().mean() * 100\n",
    "\n",
    "\n",
    "# Display the missing percentages\n",
    "print(missing_percentage)"
   ]
  },
  {
   "cell_type": "markdown",
   "id": "b2a6ea7d",
   "metadata": {
    "papermill": {
     "duration": 0.015311,
     "end_time": "2024-11-17T06:37:54.868513",
     "exception": false,
     "start_time": "2024-11-17T06:37:54.853202",
     "status": "completed"
    },
    "tags": []
   },
   "source": [
    "# Age Distribution Before Imputation"
   ]
  },
  {
   "cell_type": "code",
   "execution_count": 10,
   "id": "e8ec997b",
   "metadata": {
    "execution": {
     "iopub.execute_input": "2024-11-17T06:37:54.904116Z",
     "iopub.status.busy": "2024-11-17T06:37:54.903669Z",
     "iopub.status.idle": "2024-11-17T06:37:55.470178Z",
     "shell.execute_reply": "2024-11-17T06:37:55.469093Z"
    },
    "papermill": {
     "duration": 0.587729,
     "end_time": "2024-11-17T06:37:55.472923",
     "exception": false,
     "start_time": "2024-11-17T06:37:54.885194",
     "status": "completed"
    },
    "tags": []
   },
   "outputs": [
    {
     "data": {
      "image/png": "[encoded data removed]",
      "text/plain": [
       "<Figure size 1000x500 with 1 Axes>"
      ]
     },
     "metadata": {},
     "output_type": "display_data"
    }
   ],
   "source": [
    "# Plot missing values in Age before imputation\n",
    "\n",
    "plt.figure(figsize=(10, 5))\n",
    "\n",
    "sns.histplot(df['Age'], bins=30, kde=True)\n",
    "\n",
    "plt.title('Age Distribution Before Imputation')\n",
    "\n",
    "plt.show()"
   ]
  },
  {
   "cell_type": "markdown",
   "id": "ad4902ec",
   "metadata": {
    "papermill": {
     "duration": 0.016057,
     "end_time": "2024-11-17T06:37:55.505523",
     "exception": false,
     "start_time": "2024-11-17T06:37:55.489466",
     "status": "completed"
    },
    "tags": []
   },
   "source": [
    "# Impute Missing Age"
   ]
  },
  {
   "cell_type": "code",
   "execution_count": 11,
   "id": "5009c73a",
   "metadata": {
    "execution": {
     "iopub.execute_input": "2024-11-17T06:37:55.540170Z",
     "iopub.status.busy": "2024-11-17T06:37:55.539704Z",
     "iopub.status.idle": "2024-11-17T06:37:55.548026Z",
     "shell.execute_reply": "2024-11-17T06:37:55.547001Z"
    },
    "papermill": {
     "duration": 0.028445,
     "end_time": "2024-11-17T06:37:55.550338",
     "exception": false,
     "start_time": "2024-11-17T06:37:55.521893",
     "status": "completed"
    },
    "tags": []
   },
   "outputs": [],
   "source": [
    "# Impute missing Age values with mode\n",
    "df['Age'].fillna(df['Age'].mode()[0], inplace=True)"
   ]
  },
  {
   "cell_type": "markdown",
   "id": "51725d7f",
   "metadata": {
    "papermill": {
     "duration": 0.016147,
     "end_time": "2024-11-17T06:37:55.583281",
     "exception": false,
     "start_time": "2024-11-17T06:37:55.567134",
     "status": "completed"
    },
    "tags": []
   },
   "source": [
    "# Age Distribution After Imputation"
   ]
  },
  {
   "cell_type": "code",
   "execution_count": 12,
   "id": "2c3cf805",
   "metadata": {
    "execution": {
     "iopub.execute_input": "2024-11-17T06:37:55.617932Z",
     "iopub.status.busy": "2024-11-17T06:37:55.617432Z",
     "iopub.status.idle": "2024-11-17T06:37:56.092587Z",
     "shell.execute_reply": "2024-11-17T06:37:56.091392Z"
    },
    "papermill": {
     "duration": 0.495431,
     "end_time": "2024-11-17T06:37:56.095114",
     "exception": false,
     "start_time": "2024-11-17T06:37:55.599683",
     "status": "completed"
    },
    "tags": []
   },
   "outputs": [
    {
     "data": {
      "image/png": "[encoded data removed]",
      "text/plain": [
       "<Figure size 1000x500 with 1 Axes>"
      ]
     },
     "metadata": {},
     "output_type": "display_data"
    }
   ],
   "source": [
    "# Plot Age distribution after imputation\n",
    "\n",
    "plt.figure(figsize=(10, 5))\n",
    "\n",
    "sns.histplot(df['Age'], bins=30, kde=True)\n",
    "\n",
    "plt.title('Age Distribution After Imputation')\n",
    "\n",
    "plt.show()"
   ]
  },
  {
   "cell_type": "markdown",
   "id": "91ccfad5",
   "metadata": {
    "papermill": {
     "duration": 0.01691,
     "end_time": "2024-11-17T06:37:56.129221",
     "exception": false,
     "start_time": "2024-11-17T06:37:56.112311",
     "status": "completed"
    },
    "tags": []
   },
   "source": [
    "# Embarked Distribution Before Imputation"
   ]
  },
  {
   "cell_type": "code",
   "execution_count": 13,
   "id": "edc74729",
   "metadata": {
    "execution": {
     "iopub.execute_input": "2024-11-17T06:37:56.165039Z",
     "iopub.status.busy": "2024-11-17T06:37:56.164543Z",
     "iopub.status.idle": "2024-11-17T06:37:56.410757Z",
     "shell.execute_reply": "2024-11-17T06:37:56.409681Z"
    },
    "papermill": {
     "duration": 0.267255,
     "end_time": "2024-11-17T06:37:56.413420",
     "exception": false,
     "start_time": "2024-11-17T06:37:56.146165",
     "status": "completed"
    },
    "tags": []
   },
   "outputs": [
    {
     "data": {
      "image/png": "[encoded data removed]",
      "text/plain": [
       "<Figure size 600x400 with 1 Axes>"
      ]
     },
     "metadata": {},
     "output_type": "display_data"
    }
   ],
   "source": [
    "# Plot missing values in Embarked before imputation\n",
    "\n",
    "plt.figure(figsize=(6, 4))\n",
    "\n",
    "sns.countplot(x='Embarked', data=df)\n",
    "\n",
    "plt.title('Embarked Distribution Before Imputation')\n",
    "\n",
    "plt.show()"
   ]
  },
  {
   "cell_type": "markdown",
   "id": "c437f423",
   "metadata": {
    "papermill": {
     "duration": 0.017321,
     "end_time": "2024-11-17T06:37:56.448322",
     "exception": false,
     "start_time": "2024-11-17T06:37:56.431001",
     "status": "completed"
    },
    "tags": []
   },
   "source": [
    "# Embarked Distribution After Imputation"
   ]
  },
  {
   "cell_type": "code",
   "execution_count": 14,
   "id": "d6689ea1",
   "metadata": {
    "execution": {
     "iopub.execute_input": "2024-11-17T06:37:56.484999Z",
     "iopub.status.busy": "2024-11-17T06:37:56.484529Z",
     "iopub.status.idle": "2024-11-17T06:37:56.685365Z",
     "shell.execute_reply": "2024-11-17T06:37:56.683099Z"
    },
    "papermill": {
     "duration": 0.223175,
     "end_time": "2024-11-17T06:37:56.688881",
     "exception": false,
     "start_time": "2024-11-17T06:37:56.465706",
     "status": "completed"
    },
    "tags": []
   },
   "outputs": [
    {
     "data": {
      "image/png": "[encoded data removed]",
      "text/plain": [
       "<Figure size 600x400 with 1 Axes>"
      ]
     },
     "metadata": {},
     "output_type": "display_data"
    }
   ],
   "source": [
    "# Impute missing Embarked values with mode\n",
    "\n",
    "df['Embarked'].fillna(df['Embarked'].mode()[0], inplace=True)\n",
    "\n",
    "\n",
    "\n",
    "# Plot Embarked distribution after imputation\n",
    "\n",
    "plt.figure(figsize=(6, 4))\n",
    "\n",
    "sns.countplot(x='Embarked', data=df)\n",
    "\n",
    "plt.title('Embarked Distribution After Imputation')\n",
    "\n",
    "plt.show()"
   ]
  },
  {
   "cell_type": "markdown",
   "id": "03b0cc9d",
   "metadata": {
    "papermill": {
     "duration": 0.022842,
     "end_time": "2024-11-17T06:37:56.734508",
     "exception": false,
     "start_time": "2024-11-17T06:37:56.711666",
     "status": "completed"
    },
    "tags": []
   },
   "source": [
    "# Fare Distribution Before Imputation"
   ]
  },
  {
   "cell_type": "code",
   "execution_count": 15,
   "id": "001a55b5",
   "metadata": {
    "execution": {
     "iopub.execute_input": "2024-11-17T06:37:56.775184Z",
     "iopub.status.busy": "2024-11-17T06:37:56.774210Z",
     "iopub.status.idle": "2024-11-17T06:37:57.125097Z",
     "shell.execute_reply": "2024-11-17T06:37:57.123948Z"
    },
    "papermill": {
     "duration": 0.375734,
     "end_time": "2024-11-17T06:37:57.128120",
     "exception": false,
     "start_time": "2024-11-17T06:37:56.752386",
     "status": "completed"
    },
    "tags": []
   },
   "outputs": [
    {
     "data": {
      "image/png": "[encoded data removed]",
      "text/plain": [
       "<Figure size 1000x500 with 1 Axes>"
      ]
     },
     "metadata": {},
     "output_type": "display_data"
    }
   ],
   "source": [
    "# Plot missing values in Fare before imputation\n",
    "\n",
    "plt.figure(figsize=(10, 5))\n",
    "\n",
    "sns.histplot(df['Fare'], bins=30, kde=True)\n",
    "\n",
    "plt.title('Fare Distribution Before Imputation')\n",
    "\n",
    "plt.show()"
   ]
  },
  {
   "cell_type": "markdown",
   "id": "36e72748",
   "metadata": {
    "papermill": {
     "duration": 0.018384,
     "end_time": "2024-11-17T06:37:57.165627",
     "exception": false,
     "start_time": "2024-11-17T06:37:57.147243",
     "status": "completed"
    },
    "tags": []
   },
   "source": [
    "# Fare Distribution After Imputation"
   ]
  },
  {
   "cell_type": "code",
   "execution_count": 16,
   "id": "298c147e",
   "metadata": {
    "execution": {
     "iopub.execute_input": "2024-11-17T06:37:57.204306Z",
     "iopub.status.busy": "2024-11-17T06:37:57.203895Z",
     "iopub.status.idle": "2024-11-17T06:37:57.612155Z",
     "shell.execute_reply": "2024-11-17T06:37:57.611094Z"
    },
    "papermill": {
     "duration": 0.430811,
     "end_time": "2024-11-17T06:37:57.614847",
     "exception": false,
     "start_time": "2024-11-17T06:37:57.184036",
     "status": "completed"
    },
    "tags": []
   },
   "outputs": [
    {
     "data": {
      "image/png": "[encoded data removed]",
      "text/plain": [
       "<Figure size 1000x500 with 1 Axes>"
      ]
     },
     "metadata": {},
     "output_type": "display_data"
    }
   ],
   "source": [
    "# Impute missing Fare values with median\n",
    "\n",
    "df['Fare'].fillna(df['Fare'].median(), inplace=True)\n",
    "\n",
    "\n",
    "\n",
    "# Plot Fare distribution after imputation\n",
    "\n",
    "plt.figure(figsize=(10, 5))\n",
    "\n",
    "sns.histplot(df['Fare'], bins=30, kde=True)\n",
    "\n",
    "plt.title('Fare Distribution After Imputation')\n",
    "\n",
    "plt.show()"
   ]
  },
  {
   "cell_type": "markdown",
   "id": "1655b037",
   "metadata": {
    "papermill": {
     "duration": 0.018766,
     "end_time": "2024-11-17T06:37:57.652814",
     "exception": false,
     "start_time": "2024-11-17T06:37:57.634048",
     "status": "completed"
    },
    "tags": []
   },
   "source": [
    "# Cabin Missingness Before Imputation"
   ]
  },
  {
   "cell_type": "code",
   "execution_count": 17,
   "id": "8bdf1567",
   "metadata": {
    "execution": {
     "iopub.execute_input": "2024-11-17T06:37:57.692537Z",
     "iopub.status.busy": "2024-11-17T06:37:57.692086Z",
     "iopub.status.idle": "2024-11-17T06:37:57.941246Z",
     "shell.execute_reply": "2024-11-17T06:37:57.939865Z"
    },
    "papermill": {
     "duration": 0.271986,
     "end_time": "2024-11-17T06:37:57.943636",
     "exception": false,
     "start_time": "2024-11-17T06:37:57.671650",
     "status": "completed"
    },
    "tags": []
   },
   "outputs": [
    {
     "data": {
      "image/png": "[encoded data removed]",
      "text/plain": [
       "<Figure size 600x400 with 1 Axes>"
      ]
     },
     "metadata": {},
     "output_type": "display_data"
    }
   ],
   "source": [
    "# Plot missing values in Cabin before imputation\n",
    "\n",
    "plt.figure(figsize=(6, 4))\n",
    "\n",
    "sns.countplot(x=df['Cabin'].isnull())\n",
    "\n",
    "plt.title('Cabin Missingness Before Imputation')\n",
    "\n",
    "plt.xticks([0, 1], ['Present', 'Missing'])\n",
    "\n",
    "plt.show()"
   ]
  },
  {
   "cell_type": "markdown",
   "id": "e95b9bcb",
   "metadata": {
    "papermill": {
     "duration": 0.018988,
     "end_time": "2024-11-17T06:37:57.982137",
     "exception": false,
     "start_time": "2024-11-17T06:37:57.963149",
     "status": "completed"
    },
    "tags": []
   },
   "source": [
    "# Cabin After Binary Encoding"
   ]
  },
  {
   "cell_type": "code",
   "execution_count": 18,
   "id": "152f1282",
   "metadata": {
    "execution": {
     "iopub.execute_input": "2024-11-17T06:37:58.022725Z",
     "iopub.status.busy": "2024-11-17T06:37:58.022231Z",
     "iopub.status.idle": "2024-11-17T06:37:58.270094Z",
     "shell.execute_reply": "2024-11-17T06:37:58.269057Z"
    },
    "papermill": {
     "duration": 0.271153,
     "end_time": "2024-11-17T06:37:58.272481",
     "exception": false,
     "start_time": "2024-11-17T06:37:58.001328",
     "status": "completed"
    },
    "tags": []
   },
   "outputs": [
    {
     "data": {
      "image/png": "[encoded data removed]",
      "text/plain": [
       "<Figure size 600x400 with 1 Axes>"
      ]
     },
     "metadata": {},
     "output_type": "display_data"
    }
   ],
   "source": [
    "# Impute Cabin with binary encoding (1 if present, 0 if missing)\n",
    "\n",
    "df['Cabin'] = df['Cabin'].notnull().astype(int)\n",
    "\n",
    "\n",
    "\n",
    "# Plot binary encoding of Cabin after imputation\n",
    "\n",
    "plt.figure(figsize=(6, 4))\n",
    "\n",
    "sns.countplot(x=df['Cabin'])\n",
    "\n",
    "plt.title('Cabin After Binary Encoding')\n",
    "\n",
    "plt.xticks([0, 1], ['Missing', 'Present'])\n",
    "\n",
    "plt.show()"
   ]
  },
  {
   "cell_type": "markdown",
   "id": "836eb911",
   "metadata": {
    "papermill": {
     "duration": 0.019652,
     "end_time": "2024-11-17T06:37:58.312058",
     "exception": false,
     "start_time": "2024-11-17T06:37:58.292406",
     "status": "completed"
    },
    "tags": []
   },
   "source": [
    "# Imputation for Categorical columns"
   ]
  },
  {
   "cell_type": "code",
   "execution_count": 19,
   "id": "fe56d473",
   "metadata": {
    "execution": {
     "iopub.execute_input": "2024-11-17T06:37:58.353739Z",
     "iopub.status.busy": "2024-11-17T06:37:58.353252Z",
     "iopub.status.idle": "2024-11-17T06:37:58.370522Z",
     "shell.execute_reply": "2024-11-17T06:37:58.369332Z"
    },
    "papermill": {
     "duration": 0.041422,
     "end_time": "2024-11-17T06:37:58.373239",
     "exception": false,
     "start_time": "2024-11-17T06:37:58.331817",
     "status": "completed"
    },
    "tags": []
   },
   "outputs": [],
   "source": [
    "# Mode imputation for categorical columns with moderate missingness\n",
    "\n",
    "for col in ['Pclass', 'SibSp', 'Parch', 'Ticket', 'Survived']:\n",
    "\n",
    "    df[col].fillna(df[col].mode()[0], inplace=True)\n",
    "\n",
    "\n",
    "\n",
    "# Drop rows with missing Name values, as they are non-predictive for survival\n",
    "\n",
    "df = df[df['Name'].notnull()]\n",
    "\n",
    "\n",
    "\n",
    "# Impute missing Sex values with the mode (most common value)\n",
    "\n",
    "df['Sex'].fillna(df['Sex'].mode()[0], inplace=True)"
   ]
  },
  {
   "cell_type": "code",
   "execution_count": 20,
   "id": "e601ed29",
   "metadata": {
    "execution": {
     "iopub.execute_input": "2024-11-17T06:37:58.415204Z",
     "iopub.status.busy": "2024-11-17T06:37:58.414747Z",
     "iopub.status.idle": "2024-11-17T06:37:58.424211Z",
     "shell.execute_reply": "2024-11-17T06:37:58.423040Z"
    },
    "papermill": {
     "duration": 0.033743,
     "end_time": "2024-11-17T06:37:58.426866",
     "exception": false,
     "start_time": "2024-11-17T06:37:58.393123",
     "status": "completed"
    },
    "tags": []
   },
   "outputs": [
    {
     "name": "stdout",
     "output_type": "stream",
     "text": [
      "PassengerId    0\n",
      "Survived       0\n",
      "Pclass         0\n",
      "Name           0\n",
      "Sex            0\n",
      "Age            0\n",
      "SibSp          0\n",
      "Parch          0\n",
      "Ticket         0\n",
      "Fare           0\n",
      "Cabin          0\n",
      "Embarked       0\n",
      "dtype: int64\n"
     ]
    }
   ],
   "source": [
    "# Check if any missing values remain\n",
    "\n",
    "print(df.isnull().sum())"
   ]
  },
  {
   "cell_type": "markdown",
   "id": "3a381d5d",
   "metadata": {
    "papermill": {
     "duration": 0.019752,
     "end_time": "2024-11-17T06:37:58.466997",
     "exception": false,
     "start_time": "2024-11-17T06:37:58.447245",
     "status": "completed"
    },
    "tags": []
   },
   "source": [
    "# Feature engineering , Encodes categorical variables"
   ]
  },
  {
   "cell_type": "code",
   "execution_count": 21,
   "id": "e8d8cfb7",
   "metadata": {
    "execution": {
     "iopub.execute_input": "2024-11-17T06:37:58.508964Z",
     "iopub.status.busy": "2024-11-17T06:37:58.508479Z",
     "iopub.status.idle": "2024-11-17T06:37:58.867383Z",
     "shell.execute_reply": "2024-11-17T06:37:58.866358Z"
    },
    "papermill": {
     "duration": 0.383273,
     "end_time": "2024-11-17T06:37:58.870115",
     "exception": false,
     "start_time": "2024-11-17T06:37:58.486842",
     "status": "completed"
    },
    "tags": []
   },
   "outputs": [
    {
     "name": "stdout",
     "output_type": "stream",
     "text": [
      "Accuracy: 0.683206106870229\n",
      "              precision    recall  f1-score   support\n",
      "\n",
      "         0.0       0.78      0.79      0.78       189\n",
      "         1.0       0.43      0.41      0.42        73\n",
      "\n",
      "    accuracy                           0.68       262\n",
      "   macro avg       0.60      0.60      0.60       262\n",
      "weighted avg       0.68      0.68      0.68       262\n",
      "\n"
     ]
    }
   ],
   "source": [
    "# Assuming your DataFrame is named 'df'\n",
    "\n",
    "# Extract title from Name\n",
    "\n",
    "df['Title'] = df['Name'].str.extract(' ([A-Za-z]+)\\.', expand=False)\n",
    "\n",
    "\n",
    "\n",
    "# Impute missing Embarked with mode\n",
    "\n",
    "df['Embarked'].fillna(df['Embarked'].mode()[0], inplace=True)\n",
    "\n",
    "\n",
    "\n",
    "# Encoding categorical variables\n",
    "\n",
    "df['Sex'] = LabelEncoder().fit_transform(df['Sex'])\n",
    "\n",
    "df = pd.get_dummies(df, columns=['Embarked', 'Title'])\n",
    "\n",
    "\n",
    "\n",
    "# Define features and target variable\n",
    "\n",
    "X = df.drop(columns=['Survived', 'Name', 'Ticket', 'PassengerId'])\n",
    "\n",
    "y = df['Survived']\n",
    "\n",
    "\n",
    "\n",
    "# Split the data into training and testing sets\n",
    "\n",
    "X_train, X_test, y_train, y_test = train_test_split(X, y, test_size=0.2, random_state=42)\n",
    "\n",
    "\n",
    "\n",
    "# Train a Random Forest Classifier\n",
    "\n",
    "model = RandomForestClassifier(n_estimators=100, random_state=42)\n",
    "\n",
    "model.fit(X_train, y_train)\n",
    "\n",
    "\n",
    "\n",
    "# Predict and evaluate\n",
    "\n",
    "y_pred = model.predict(X_test)\n",
    "\n",
    "print(\"Accuracy:\", accuracy_score(y_test, y_pred))\n",
    "\n",
    "print(classification_report(y_test, y_pred))"
   ]
  },
  {
   "cell_type": "markdown",
   "id": "c0f2f44d",
   "metadata": {
    "papermill": {
     "duration": 0.02147,
     "end_time": "2024-11-17T06:37:58.911631",
     "exception": false,
     "start_time": "2024-11-17T06:37:58.890161",
     "status": "completed"
    },
    "tags": []
   },
   "source": [
    "Accuracy after SMOTE"
   ]
  },
  {
   "cell_type": "code",
   "execution_count": 22,
   "id": "bb34f93a",
   "metadata": {
    "execution": {
     "iopub.execute_input": "2024-11-17T06:37:58.954840Z",
     "iopub.status.busy": "2024-11-17T06:37:58.954134Z",
     "iopub.status.idle": "2024-11-17T06:37:59.406058Z",
     "shell.execute_reply": "2024-11-17T06:37:59.404642Z"
    },
    "papermill": {
     "duration": 0.476899,
     "end_time": "2024-11-17T06:37:59.408650",
     "exception": false,
     "start_time": "2024-11-17T06:37:58.931751",
     "status": "completed"
    },
    "tags": []
   },
   "outputs": [
    {
     "name": "stdout",
     "output_type": "stream",
     "text": [
      "Accuracy after SMOTE: 0.683206106870229\n",
      "              precision    recall  f1-score   support\n",
      "\n",
      "         0.0       0.80      0.75      0.77       189\n",
      "         1.0       0.44      0.51      0.47        73\n",
      "\n",
      "    accuracy                           0.68       262\n",
      "   macro avg       0.62      0.63      0.62       262\n",
      "weighted avg       0.70      0.68      0.69       262\n",
      "\n"
     ]
    }
   ],
   "source": [
    "# Apply SMOTE to balance the dataset\n",
    "\n",
    "smote = SMOTE(random_state=42)\n",
    "\n",
    "X_resampled, y_resampled = smote.fit_resample(X_train, y_train)\n",
    "\n",
    "\n",
    "\n",
    "# Train the Random Forest model again with the balanced data\n",
    "\n",
    "model.fit(X_resampled, y_resampled)\n",
    "\n",
    "\n",
    "\n",
    "# Predict and evaluate again\n",
    "\n",
    "y_pred_resampled = model.predict(X_test)\n",
    "\n",
    "print(\"Accuracy after SMOTE:\", accuracy_score(y_test, y_pred_resampled))\n",
    "\n",
    "print(classification_report(y_test, y_pred_resampled))"
   ]
  },
  {
   "cell_type": "markdown",
   "id": "caa3c7fe",
   "metadata": {
    "papermill": {
     "duration": 0.02017,
     "end_time": "2024-11-17T06:37:59.449012",
     "exception": false,
     "start_time": "2024-11-17T06:37:59.428842",
     "status": "completed"
    },
    "tags": []
   },
   "source": [
    "# Feature Importance"
   ]
  },
  {
   "cell_type": "code",
   "execution_count": 23,
   "id": "9a2b5823",
   "metadata": {
    "execution": {
     "iopub.execute_input": "2024-11-17T06:37:59.492521Z",
     "iopub.status.busy": "2024-11-17T06:37:59.491272Z",
     "iopub.status.idle": "2024-11-17T06:37:59.994417Z",
     "shell.execute_reply": "2024-11-17T06:37:59.992972Z"
    },
    "papermill": {
     "duration": 0.527792,
     "end_time": "2024-11-17T06:37:59.997010",
     "exception": false,
     "start_time": "2024-11-17T06:37:59.469218",
     "status": "completed"
    },
    "tags": []
   },
   "outputs": [
    {
     "data": {
      "image/png": "[encoded data removed]",
      "text/plain": [
       "<Figure size 1000x600 with 1 Axes>"
      ]
     },
     "metadata": {},
     "output_type": "display_data"
    }
   ],
   "source": [
    "# Get feature importance\n",
    "\n",
    "importance = model.feature_importances_\n",
    "\n",
    "feature_names = X.columns\n",
    "\n",
    "\n",
    "\n",
    "# Create a DataFrame for visualization\n",
    "\n",
    "importance_df = pd.DataFrame({'Feature': feature_names, 'Importance': importance})\n",
    "\n",
    "importance_df = importance_df.sort_values(by='Importance', ascending=False)\n",
    "\n",
    "\n",
    "\n",
    "# Plotting feature importance\n",
    "\n",
    "plt.figure(figsize=(10, 6))\n",
    "\n",
    "plt.barh(importance_df['Feature'], importance_df['Importance'])\n",
    "\n",
    "plt.xlabel('Feature Importance')\n",
    "\n",
    "plt.title('Feature Importance from Random Forest Model')\n",
    "\n",
    "plt.show()"
   ]
  },
  {
   "cell_type": "markdown",
   "id": "354b4fdd",
   "metadata": {
    "papermill": {
     "duration": 0.020631,
     "end_time": "2024-11-17T06:38:00.039732",
     "exception": false,
     "start_time": "2024-11-17T06:38:00.019101",
     "status": "completed"
    },
    "tags": []
   },
   "source": [
    "# DataFrame loaded with the Titanic dataset"
   ]
  },
  {
   "cell_type": "code",
   "execution_count": 24,
   "id": "94ed1692",
   "metadata": {
    "execution": {
     "iopub.execute_input": "2024-11-17T06:38:00.084458Z",
     "iopub.status.busy": "2024-11-17T06:38:00.083403Z",
     "iopub.status.idle": "2024-11-17T06:38:00.283302Z",
     "shell.execute_reply": "2024-11-17T06:38:00.282394Z"
    },
    "papermill": {
     "duration": 0.225077,
     "end_time": "2024-11-17T06:38:00.285992",
     "exception": false,
     "start_time": "2024-11-17T06:38:00.060915",
     "status": "completed"
    },
    "tags": []
   },
   "outputs": [
    {
     "name": "stdout",
     "output_type": "stream",
     "text": [
      "Current columns in df: Index(['PassengerId', 'Survived', 'Pclass', 'Name', 'Sex', 'Age', 'SibSp',\n",
      "       'Parch', 'Ticket', 'Fare', 'Cabin', 'Embarked_C', 'Embarked_Q',\n",
      "       'Embarked_S', 'Title_Capt', 'Title_Col', 'Title_Countess', 'Title_Don',\n",
      "       'Title_Dona', 'Title_Dr', 'Title_Jonkheer', 'Title_Lady', 'Title_Major',\n",
      "       'Title_Master', 'Title_Miss', 'Title_Mlle', 'Title_Mme', 'Title_Mr',\n",
      "       'Title_Mrs', 'Title_Ms', 'Title_Rev', 'Title_Sir'],\n",
      "      dtype='object')\n",
      "Accuracy: 0.7251908396946565\n",
      "              precision    recall  f1-score   support\n",
      "\n",
      "         0.0       0.81      0.80      0.81       189\n",
      "         1.0       0.51      0.52      0.51        73\n",
      "\n",
      "    accuracy                           0.73       262\n",
      "   macro avg       0.66      0.66      0.66       262\n",
      "weighted avg       0.73      0.73      0.73       262\n",
      "\n"
     ]
    }
   ],
   "source": [
    "# Assuming df is your DataFrame loaded with the Titanic dataset\n",
    "\n",
    "\n",
    "\n",
    "# Check current columns in df\n",
    "\n",
    "print(\"Current columns in df:\", df.columns)\n",
    "\n",
    "\n",
    "\n",
    "# Feature Engineering (if not already done)\n",
    "\n",
    "df['Family_Size'] = df['SibSp'] + df['Parch'] + 1\n",
    "\n",
    "df['Age_Binned'] = pd.cut(df['Age'], bins=[0, 12, 18, 30, 50, 80], labels=['Child', 'Teen', 'Young Adult', 'Adult', 'Elderly'])\n",
    "\n",
    "\n",
    "\n",
    "# One-hot encoding for categorical features (the Embarked column is already encoded)\n",
    "\n",
    "# Dropping 'Embarked' since we are using its dummy variables\n",
    "\n",
    "df = pd.get_dummies(df, columns=['Sex', 'Age_Binned'], drop_first=True)\n",
    "\n",
    "\n",
    "\n",
    "# Define features and target variable\n",
    "\n",
    "X = df.drop(columns=['Survived', 'Name', 'Ticket', 'PassengerId', 'Cabin'])\n",
    "\n",
    "y = df['Survived']\n",
    "\n",
    "\n",
    "\n",
    "# Splitting the dataset\n",
    "\n",
    "X_train, X_test, y_train, y_test = train_test_split(X, y, test_size=0.2, random_state=42)\n",
    "\n",
    "\n",
    "\n",
    "# Train a new model (using XGBoost)\n",
    "\n",
    "model = XGBClassifier(use_label_encoder=False, eval_metric='logloss')\n",
    "\n",
    "model.fit(X_train, y_train)\n",
    "\n",
    "\n",
    "\n",
    "# Predictions and evaluation\n",
    "\n",
    "y_pred = model.predict(X_test)\n",
    "\n",
    "print(\"Accuracy:\", accuracy_score(y_test, y_pred))\n",
    "\n",
    "print(classification_report(y_test, y_pred))"
   ]
  },
  {
   "cell_type": "markdown",
   "id": "3e65f19a",
   "metadata": {
    "papermill": {
     "duration": 0.021193,
     "end_time": "2024-11-17T06:38:00.328927",
     "exception": false,
     "start_time": "2024-11-17T06:38:00.307734",
     "status": "completed"
    },
    "tags": []
   },
   "source": [
    "# Train a new model"
   ]
  },
  {
   "cell_type": "code",
   "execution_count": 25,
   "id": "4d253e29",
   "metadata": {
    "execution": {
     "iopub.execute_input": "2024-11-17T06:38:00.373962Z",
     "iopub.status.busy": "2024-11-17T06:38:00.373064Z",
     "iopub.status.idle": "2024-11-17T06:38:00.502959Z",
     "shell.execute_reply": "2024-11-17T06:38:00.501767Z"
    },
    "papermill": {
     "duration": 0.15536,
     "end_time": "2024-11-17T06:38:00.505641",
     "exception": false,
     "start_time": "2024-11-17T06:38:00.350281",
     "status": "completed"
    },
    "tags": []
   },
   "outputs": [
    {
     "name": "stdout",
     "output_type": "stream",
     "text": [
      "Accuracy: 0.6946564885496184\n",
      "              precision    recall  f1-score   support\n",
      "\n",
      "         0.0       0.81      0.75      0.78       189\n",
      "         1.0       0.46      0.55      0.50        73\n",
      "\n",
      "    accuracy                           0.69       262\n",
      "   macro avg       0.64      0.65      0.64       262\n",
      "weighted avg       0.71      0.69      0.70       262\n",
      "\n"
     ]
    }
   ],
   "source": [
    "# Train a new model with class weights\n",
    "\n",
    "model = XGBClassifier(use_label_encoder=False, eval_metric='logloss', scale_pos_weight=len(y_train[y_train == 0]) / len(y_train[y_train == 1]))\n",
    "\n",
    "model.fit(X_train, y_train)\n",
    "\n",
    "\n",
    "\n",
    "# Predictions and evaluation\n",
    "\n",
    "y_pred = model.predict(X_test)\n",
    "\n",
    "print(\"Accuracy:\", accuracy_score(y_test, y_pred))\n",
    "\n",
    "print(classification_report(y_test, y_pred))"
   ]
  },
  {
   "cell_type": "markdown",
   "id": "436e3ffe",
   "metadata": {
    "papermill": {
     "duration": 0.021514,
     "end_time": "2024-11-17T06:38:00.549416",
     "exception": false,
     "start_time": "2024-11-17T06:38:00.527902",
     "status": "completed"
    },
    "tags": []
   },
   "source": [
    "# Accuracy"
   ]
  },
  {
   "cell_type": "code",
   "execution_count": 26,
   "id": "24dcd502",
   "metadata": {
    "execution": {
     "iopub.execute_input": "2024-11-17T06:38:00.594026Z",
     "iopub.status.busy": "2024-11-17T06:38:00.593605Z",
     "iopub.status.idle": "2024-11-17T06:38:00.767463Z",
     "shell.execute_reply": "2024-11-17T06:38:00.766453Z"
    },
    "papermill": {
     "duration": 0.199348,
     "end_time": "2024-11-17T06:38:00.770111",
     "exception": false,
     "start_time": "2024-11-17T06:38:00.570763",
     "status": "completed"
    },
    "tags": []
   },
   "outputs": [
    {
     "name": "stdout",
     "output_type": "stream",
     "text": [
      "Accuracy: 0.7290076335877863\n",
      "              precision    recall  f1-score   support\n",
      "\n",
      "         0.0       0.81      0.81      0.81       189\n",
      "         1.0       0.51      0.52      0.52        73\n",
      "\n",
      "    accuracy                           0.73       262\n",
      "   macro avg       0.66      0.67      0.66       262\n",
      "weighted avg       0.73      0.73      0.73       262\n",
      "\n"
     ]
    }
   ],
   "source": [
    "# Create SMOTE object\n",
    "\n",
    "smote = SMOTE(random_state=42)\n",
    "\n",
    "\n",
    "\n",
    "# Fit and resample the training data\n",
    "\n",
    "X_train_resampled, y_train_resampled = smote.fit_resample(X_train, y_train)\n",
    "\n",
    "\n",
    "\n",
    "# Train the model with the resampled data\n",
    "\n",
    "model = XGBClassifier(use_label_encoder=False, eval_metric='logloss')\n",
    "\n",
    "model.fit(X_train_resampled, y_train_resampled)\n",
    "\n",
    "\n",
    "\n",
    "# Predictions and evaluation\n",
    "\n",
    "y_pred = model.predict(X_test)\n",
    "\n",
    "print(\"Accuracy:\", accuracy_score(y_test, y_pred))\n",
    "\n",
    "print(classification_report(y_test, y_pred))"
   ]
  },
  {
   "cell_type": "markdown",
   "id": "975172aa",
   "metadata": {
    "papermill": {
     "duration": 0.021169,
     "end_time": "2024-11-17T06:38:00.812907",
     "exception": false,
     "start_time": "2024-11-17T06:38:00.791738",
     "status": "completed"
    },
    "tags": []
   },
   "source": [
    "# GridSearch"
   ]
  },
  {
   "cell_type": "code",
   "execution_count": 27,
   "id": "51994b24",
   "metadata": {
    "execution": {
     "iopub.execute_input": "2024-11-17T06:38:00.857670Z",
     "iopub.status.busy": "2024-11-17T06:38:00.857230Z",
     "iopub.status.idle": "2024-11-17T06:39:16.561326Z",
     "shell.execute_reply": "2024-11-17T06:39:16.560411Z"
    },
    "papermill": {
     "duration": 75.751218,
     "end_time": "2024-11-17T06:39:16.585556",
     "exception": false,
     "start_time": "2024-11-17T06:38:00.834338",
     "status": "completed"
    },
    "tags": []
   },
   "outputs": [
    {
     "name": "stdout",
     "output_type": "stream",
     "text": [
      "Best Parameters: {'learning_rate': 0.01, 'max_depth': 3, 'n_estimators': 200, 'subsample': 1.0}\n",
      "Accuracy: 0.7977099236641222\n",
      "              precision    recall  f1-score   support\n",
      "\n",
      "         0.0       0.81      0.93      0.87       189\n",
      "         1.0       0.72      0.45      0.55        73\n",
      "\n",
      "    accuracy                           0.80       262\n",
      "   macro avg       0.77      0.69      0.71       262\n",
      "weighted avg       0.79      0.80      0.78       262\n",
      "\n"
     ]
    }
   ],
   "source": [
    "# Define the model\n",
    "\n",
    "model = XGBClassifier(use_label_encoder=False, eval_metric='logloss')\n",
    "\n",
    "\n",
    "\n",
    "# Set the parameters for GridSearch\n",
    "\n",
    "param_grid = {\n",
    "\n",
    "    'max_depth': [3, 5, 7, 10],\n",
    "\n",
    "    'learning_rate': [0.01, 0.1, 0.2],\n",
    "\n",
    "    'n_estimators': [100, 200, 300],\n",
    "\n",
    "    'subsample': [0.8, 1.0],\n",
    "\n",
    "}\n",
    "\n",
    "\n",
    "\n",
    "# Initialize GridSearchCV\n",
    "\n",
    "grid_search = GridSearchCV(estimator=model, param_grid=param_grid, cv=5, scoring='accuracy')\n",
    "\n",
    "\n",
    "\n",
    "# Fit the model\n",
    "\n",
    "grid_search.fit(X_train, y_train)\n",
    "\n",
    "\n",
    "\n",
    "# Get the best parameters and model\n",
    "\n",
    "best_model = grid_search.best_estimator_\n",
    "\n",
    "print(\"Best Parameters:\", grid_search.best_params_)\n",
    "\n",
    "\n",
    "\n",
    "# Predictions with the best model\n",
    "\n",
    "y_pred = best_model.predict(X_test)\n",
    "\n",
    "print(\"Accuracy:\", accuracy_score(y_test, y_pred))\n",
    "\n",
    "print(classification_report(y_test, y_pred))"
   ]
  },
  {
   "cell_type": "markdown",
   "id": "aaab40b8",
   "metadata": {
    "papermill": {
     "duration": 0.021507,
     "end_time": "2024-11-17T06:39:16.628867",
     "exception": false,
     "start_time": "2024-11-17T06:39:16.607360",
     "status": "completed"
    },
    "tags": []
   },
   "source": [
    "# Confusion Matrix"
   ]
  },
  {
   "cell_type": "code",
   "execution_count": 28,
   "id": "55b92bc3",
   "metadata": {
    "execution": {
     "iopub.execute_input": "2024-11-17T06:39:16.673965Z",
     "iopub.status.busy": "2024-11-17T06:39:16.673476Z",
     "iopub.status.idle": "2024-11-17T06:39:17.296075Z",
     "shell.execute_reply": "2024-11-17T06:39:17.294812Z"
    },
    "papermill": {
     "duration": 0.648192,
     "end_time": "2024-11-17T06:39:17.298799",
     "exception": false,
     "start_time": "2024-11-17T06:39:16.650607",
     "status": "completed"
    },
    "tags": []
   },
   "outputs": [
    {
     "data": {
      "image/png": "[encoded data removed]",
      "text/plain": [
       "<Figure size 640x480 with 2 Axes>"
      ]
     },
     "metadata": {},
     "output_type": "display_data"
    },
    {
     "data": {
      "image/png": "[encoded data removed]",
      "text/plain": [
       "<Figure size 640x480 with 1 Axes>"
      ]
     },
     "metadata": {},
     "output_type": "display_data"
    }
   ],
   "source": [
    "from sklearn.metrics import confusion_matrix, roc_curve, roc_auc_score\n",
    "\n",
    "\n",
    "\n",
    "# Confusion Matrix\n",
    "\n",
    "cm = confusion_matrix(y_test, y_pred)\n",
    "\n",
    "sns.heatmap(cm, annot=True, fmt='d', cmap='Blues')\n",
    "\n",
    "plt.title('Confusion Matrix')\n",
    "\n",
    "plt.xlabel('Predicted')\n",
    "\n",
    "plt.ylabel('Actual')\n",
    "\n",
    "plt.show()\n",
    "\n",
    "\n",
    "\n",
    "# ROC Curve\n",
    "\n",
    "y_pred_proba = best_model.predict_proba(X_test)[:, 1]\n",
    "\n",
    "fpr, tpr, thresholds = roc_curve(y_test, y_pred_proba)\n",
    "\n",
    "roc_auc = roc_auc_score(y_test, y_pred_proba)\n",
    "\n",
    "\n",
    "\n",
    "plt.plot(fpr, tpr, label='ROC Curve (area = {:.2f})'.format(roc_auc))\n",
    "\n",
    "plt.plot([0, 1], [0, 1], 'r--')\n",
    "\n",
    "plt.xlabel('False Positive Rate')\n",
    "\n",
    "plt.ylabel('True Positive Rate')\n",
    "\n",
    "plt.title('Receiver Operating Characteristic')\n",
    "\n",
    "plt.legend(loc='lower right')\n",
    "\n",
    "plt.show()\n"
   ]
  },
  {
   "cell_type": "markdown",
   "id": "91548a96",
   "metadata": {
    "papermill": {
     "duration": 0.022246,
     "end_time": "2024-11-17T06:39:17.344034",
     "exception": false,
     "start_time": "2024-11-17T06:39:17.321788",
     "status": "completed"
    },
    "tags": []
   },
   "source": [
    "# Conclusion\r\n",
    "In this analysis, we explored key factors associated with passenger survival in the Titanic disaster and developed a predictive model based on passenger data such as age, gender, socio-economic status, and embarkation point. After preprocessing the dataset to handle missing values (particularly for age and embarkation), we implemented feature engineering techniques and used machine learning models to analyze survival likelihood.\r\n",
    "\r\n",
    "Our final model, trained and evaluated using cross-validation and hyperparameter tuning, demonstrated [mention model accuracy or any significant metric, if known]. Key findings suggest that attributes like gender and class significantly influenced survival rates, with women and passengers from higher classes being more likely to survive.\r\n",
    "\r\n",
    "While the model provides meaningful insights, further improvements could involve exploring additional features or employing advanced ensemble techniques to enhance predictive performance. This exercise not only offers insights into survival patterns but also serves as a practical application of machine learning in historical data analysis."
   ]
  },
  {
   "cell_type": "markdown",
   "id": "eb55b1ba",
   "metadata": {
    "papermill": {
     "duration": 0.02226,
     "end_time": "2024-11-17T06:39:17.388875",
     "exception": false,
     "start_time": "2024-11-17T06:39:17.366615",
     "status": "completed"
    },
    "tags": []
   },
   "source": [
    "# Author \n",
    "\n",
    "**shivani sharma**\n",
    "**shivanisharmaf128@gail.com **\n"
   ]
  }
 ],
 "metadata": {
  "kaggle": {
   "accelerator": "none",
   "dataSources": [
    {
     "databundleVersionId": 26502,
     "sourceId": 3136,
     "sourceType": "competition"
    }
   ],
   "dockerImageVersionId": 30786,
   "isGpuEnabled": false,
   "isInternetEnabled": true,
   "language": "python",
   "sourceType": "notebook"
  },
  "kernelspec": {
   "display_name": "Python 3",
   "language": "python",
   "name": "python3"
  },
  "language_info": {
   "codemirror_mode": {
    "name": "ipython",
    "version": 3
   },
   "file_extension": ".py",
   "mimetype": "text/x-python",
   "name": "python",
   "nbconvert_exporter": "python",
   "pygments_lexer": "ipython3",
   "version": "3.10.14"
  },
  "papermill": {
   "default_parameters": {},
   "duration": 91.822549,
   "end_time": "2024-11-17T06:39:18.234714",
   "environment_variables": {},
   "exception": null,
   "input_path": "__notebook__.ipynb",
   "output_path": "__notebook__.ipynb",
   "parameters": {},
   "start_time": "2024-11-17T06:37:46.412165",
   "version": "2.6.0"
  }
 },
 "nbformat": 4,
 "nbformat_minor": 5
}
